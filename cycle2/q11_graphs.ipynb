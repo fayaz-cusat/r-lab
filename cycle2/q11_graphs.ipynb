{
  "nbformat": 4,
  "nbformat_minor": 0,
  "metadata": {
    "colab": {
      "provenance": [],
      "authorship_tag": "ABX9TyNTdZDocEGd6CSPyZVY5Tzw",
      "include_colab_link": true
    },
    "kernelspec": {
      "name": "ir",
      "display_name": "R"
    },
    "language_info": {
      "name": "R"
    }
  },
  "cells": [
    {
      "cell_type": "markdown",
      "metadata": {
        "id": "view-in-github",
        "colab_type": "text"
      },
      "source": [
        "<a href=\"https://colab.research.google.com/github/DeVcB13d/R_lab/blob/master/cycle2/q11_graphs.ipynb\" target=\"_parent\"><img src=\"https://colab.research.google.com/assets/colab-badge.svg\" alt=\"Open In Colab\"/></a>"
      ]
    },
    {
      "cell_type": "markdown",
      "source": [
        "\n",
        "1. Create an adjacency list representation for a given undirected graph\n",
        "2. Implement a function to add an edge between two vertices in the graph.\n",
        "3. Write an R function to perform DFS traversal on a graph starting from a specific vertex.\n",
        "\n"
      ],
      "metadata": {
        "id": "xFy4Glx4C8yT"
      }
    },
    {
      "cell_type": "code",
      "execution_count": 1,
      "metadata": {
        "colab": {
          "base_uri": "https://localhost:8080/"
        },
        "id": "9JU6j1wPCtwi",
        "outputId": "af6a9a27-8545-4128-8dda-e326737e4345"
      },
      "outputs": [
        {
          "output_type": "stream",
          "name": "stderr",
          "text": [
            "Installing package into ‘/usr/local/lib/R/site-library’\n",
            "(as ‘lib’ is unspecified)\n",
            "\n"
          ]
        }
      ],
      "source": [
        "install.packages(\"igraph\")"
      ]
    },
    {
      "cell_type": "code",
      "source": [
        "library(\"igraph\")"
      ],
      "metadata": {
        "colab": {
          "base_uri": "https://localhost:8080/"
        },
        "id": "wvKRiWdSDc79",
        "outputId": "1ca340b4-c840-4762-85d4-b77c229e1a3b"
      },
      "execution_count": 2,
      "outputs": [
        {
          "output_type": "stream",
          "name": "stderr",
          "text": [
            "\n",
            "Attaching package: ‘igraph’\n",
            "\n",
            "\n",
            "The following objects are masked from ‘package:stats’:\n",
            "\n",
            "    decompose, spectrum\n",
            "\n",
            "\n",
            "The following object is masked from ‘package:base’:\n",
            "\n",
            "    union\n",
            "\n",
            "\n"
          ]
        }
      ]
    },
    {
      "cell_type": "code",
      "source": [
        "g <- make_graph(edges = c(1,2, 1,5), n=10, directed = FALSE)"
      ],
      "metadata": {
        "id": "rEMTIg6mEG4C"
      },
      "execution_count": 3,
      "outputs": []
    },
    {
      "cell_type": "code",
      "source": [
        "g <- make_graph(edges = c(1,2, 1,5), n=10, directed = FALSE)"
      ],
      "metadata": {
        "id": "R1aw7hGLENM5"
      },
      "execution_count": 4,
      "outputs": []
    },
    {
      "cell_type": "code",
      "source": [
        "# Define the edges of the undirected graph\n",
        "edges <- cbind(c(1, 1, 2, 2, 3, 4, 4, 5), c(2, 3, 3, 4, 5, 5, 6, 6))\n",
        "\n",
        "# Create a graph object from the edges\n",
        "graph <- graph_from_edgelist(edges, directed = FALSE)\n",
        "\n",
        "# Get the adjacency list\n",
        "adj_list <- get.adjlist(graph)\n",
        "\n",
        "# Print the adjacency list\n",
        "print(adj_list)\n"
      ],
      "metadata": {
        "colab": {
          "base_uri": "https://localhost:8080/"
        },
        "id": "EjczU0FIETIc",
        "outputId": "2f934737-0ebf-41a5-82ea-b5fd2b12f6da"
      },
      "execution_count": 5,
      "outputs": [
        {
          "output_type": "stream",
          "name": "stdout",
          "text": [
            "[[1]]\n",
            "+ 2/6 vertices, from e999480:\n",
            "[1] 2 3\n",
            "\n",
            "[[2]]\n",
            "+ 3/6 vertices, from e999480:\n",
            "[1] 1 3 4\n",
            "\n",
            "[[3]]\n",
            "+ 3/6 vertices, from e999480:\n",
            "[1] 1 2 5\n",
            "\n",
            "[[4]]\n",
            "+ 3/6 vertices, from e999480:\n",
            "[1] 2 5 6\n",
            "\n",
            "[[5]]\n",
            "+ 3/6 vertices, from e999480:\n",
            "[1] 3 4 6\n",
            "\n",
            "[[6]]\n",
            "+ 2/6 vertices, from e999480:\n",
            "[1] 4 5\n",
            "\n"
          ]
        }
      ]
    },
    {
      "cell_type": "code",
      "source": [
        "dfs(graph,\n",
        "  root = 1, \"out\",\n",
        "  TRUE, TRUE, TRUE, TRUE\n",
        ")"
      ],
      "metadata": {
        "colab": {
          "base_uri": "https://localhost:8080/",
          "height": 416
        },
        "id": "bG-piFqGFSUB",
        "outputId": "24bab401-5f93-48d2-f43f-06a26722cd8f"
      },
      "execution_count": 6,
      "outputs": [
        {
          "output_type": "display_data",
          "data": {
            "text/plain": [
              "$root\n",
              "[1] 1\n",
              "\n",
              "$mode\n",
              "[1] \"out\"\n",
              "\n",
              "$order\n",
              "+ 6/6 vertices, from e999480:\n",
              "[1] 1 2 3 5 4 6\n",
              "\n",
              "$order.out\n",
              "+ 6/6 vertices, from e999480:\n",
              "[1] 6 4 5 3 2 1\n",
              "\n",
              "$father\n",
              "+ 6/6 vertices, from e999480:\n",
              "[1] NA  1  2  5  3  4\n",
              "\n",
              "$dist\n",
              "NULL\n",
              "\n",
              "$neimode\n",
              "[1] \"out\"\n"
            ]
          },
          "metadata": {}
        }
      ]
    }
  ]
}