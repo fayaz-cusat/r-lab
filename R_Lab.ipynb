{
  "nbformat": 4,
  "nbformat_minor": 0,
  "metadata": {
    "colab": {
      "provenance": [],
      "authorship_tag": "ABX9TyM5dWMEx7Fy9B/F8KoXiaM7"
    },
    "kernelspec": {
      "name": "ir",
      "display_name": "R"
    },
    "language_info": {
      "name": "R"
    }
  },
  "cells": [
    {
      "cell_type": "code",
      "execution_count": null,
      "metadata": {
        "colab": {
          "base_uri": "https://localhost:8080/",
          "height": 138
        },
        "id": "YHyaU0SEEeRu",
        "outputId": "275da287-9fa9-456e-b350-adda0e02f1e7"
      },
      "outputs": [
        {
          "output_type": "display_data",
          "data": {
            "text/html": [
              "'Read paragraph: Hi I am dev'"
            ],
            "text/markdown": "'Read paragraph: Hi I am dev'",
            "text/latex": "'Read paragraph: Hi I am dev'",
            "text/plain": [
              "[1] \"Read paragraph: Hi I am dev\""
            ]
          },
          "metadata": {}
        },
        {
          "output_type": "display_data",
          "data": {
            "text/html": [
              "'Number of words 4'"
            ],
            "text/markdown": "'Number of words 4'",
            "text/latex": "'Number of words 4'",
            "text/plain": [
              "[1] \"Number of words 4\""
            ]
          },
          "metadata": {}
        },
        {
          "output_type": "display_data",
          "data": {
            "text/html": [
              "<span style=white-space:pre-wrap>'words,  c(\"Hi\", \"I\", \"am\", \"dev\")'</span>"
            ],
            "text/markdown": "<span style=white-space:pre-wrap>'words,  c(\"Hi\", \"I\", \"am\", \"dev\")'</span>",
            "text/latex": "'words,  c(\"Hi\", \"I\", \"am\", \"dev\")'",
            "text/plain": [
              "[1] \"words,  c(\\\"Hi\\\", \\\"I\\\", \\\"am\\\", \\\"dev\\\")\""
            ]
          },
          "metadata": {}
        },
        {
          "output_type": "stream",
          "name": "stdout",
          "text": [
            "Average word length: 25 \n",
            "[1] 8\n",
            "character(0)\n",
            "Largest word of length  8  is  "
          ]
        }
      ],
      "source": [
        "# Lab cycle question 1\n",
        "#Question 1: Data Types and Manipulation\n",
        "#Develop a program to read a paragraph of text and perform the following tasks:\n",
        "#a. Count the total number of words.\n",
        "#b. Calculate the average word length.\n",
        "#c. Identify and print the longest word.\n",
        "#d. Replace all occurrences of a specific word with another word of your choice.\n",
        "\n",
        "# Reading a paragraph\n",
        "\n",
        "# para <- readline(\"Enter your paragraph : \")\n",
        "\n",
        "para <- \"Hi I am dev\"\n",
        "sprintf(\"Read paragraph: %s\", para)\n",
        "\n",
        "# Counting the number of words\n",
        "num_words <- lengths(strsplit(para, \" \"))\n",
        "sprintf(\"Number of words %x\", num_words)\n",
        "words <- strsplit(para, \"[[:space:]]\")\n",
        "paste(\"words, \", words)\n",
        "\n",
        "# Calculate the total number of characters in all words\n",
        "total_characters <- sum(nchar(words))\n",
        "\n",
        "# Calculate the total number of words\n",
        "total_words <- length(words)\n",
        "\n",
        "# Calculate the average word length\n",
        "average_word_length <- total_characters / total_words\n",
        "\n",
        "# Print the result\n",
        "cat(\"Average word length:\", average_word_length, \"\\n\")\n",
        "\n",
        "# Finding the longest word\n",
        "# Iterating via each word\n",
        "\n",
        "# Storing the largest index\n",
        "large_len <- 0\n",
        "large_index <- 0\n",
        "\n",
        "ctr <- 0\n",
        "for (i in words){\n",
        "    word_len <- sum(nchar(i))\n",
        "    print(word_len)\n",
        "    if ( word_len > large_len ){\n",
        "        large_index <- ctr\n",
        "        large_len <- word_len\n",
        "        print(word[large_index])\n",
        "    }\n",
        "    ctr <- ctr + 1\n",
        "}\n",
        "\n",
        "result <- paste(\"Largest word of length \", large_len, \" is \", word[large_index])\n",
        "cat(result)\n"
      ]
    },
    {
      "cell_type": "code",
      "source": [],
      "metadata": {
        "id": "PeIzmRSM-BNU"
      },
      "execution_count": null,
      "outputs": []
    },
    {
      "cell_type": "code",
      "source": [
        "charAt <- function(sentence,index){\n",
        "    c <- substr(sentence,index,index)\n",
        "}\n",
        "\n",
        "caeser_cipher <- function(sentence,shift){\n",
        "  for (i in 1:nchar(sentence)) {\n",
        "    if (tolower(charAt(sentence, i)) %in% letters) {\n",
        "      alphabet <- tolower(charAt(sentence, i))\n",
        "      position <- which(letters %in% alphabet) + shift\n",
        "      if (position > 26) {\n",
        "        position <- position - 26\n",
        "      }\n",
        "      if (i - 1 < 1) {\n",
        "        sentence <- paste0(\n",
        "          letters[position], substr(sentence, i + 1, nchar(sentence)\n",
        "          )\n",
        "        )\n",
        "      } else {\n",
        "        sentence <- paste0(\n",
        "          substr(sentence, 1, i - 1),\n",
        "          letters[position],\n",
        "          substr(sentence,\n",
        "          i + 1,\n",
        "          nchar(sentence)))\n",
        "      }\n",
        "    } else {\n",
        "      next\n",
        "    }\n",
        "  }\n",
        "  return(sentence)\n",
        "}\n",
        "cat(\"Enter your sentence : \")\n",
        "sentence <- readline()\n",
        "\n",
        "cat(\"Enter the shift : \")\n",
        "shift <- readline()\n",
        "\n",
        "shift <- as.numeric(shift)\n",
        "\n",
        "shifted_sentence <- caeser_cipher(sentence, shift)\n",
        "\n",
        "\n",
        "cat(\"Before Caeser Cipher Encryption : \", sentence, \"\\n\")\n",
        "\n",
        "cat(\"After Caeser Cipher Encryption : \", shifted_sentence)"
      ],
      "metadata": {
        "colab": {
          "base_uri": "https://localhost:8080/"
        },
        "id": "sgztVc8Ai5oz",
        "outputId": "2e57cb79-18a7-417b-9cc8-9e8e1022a676"
      },
      "execution_count": null,
      "outputs": [
        {
          "output_type": "stream",
          "name": "stdout",
          "text": [
            "Enter your sentence : Hi I am dev\n",
            "Enter the shift : 4\n",
            "Before Caeser Cipher Encryption :  Hi I am dev \n",
            "After Caeser Cipher Encryption :  lm m eq hiz"
          ]
        }
      ]
    },
    {
      "cell_type": "code",
      "source": [
        "# Question 3: Data Validation and User Input\n",
        "\n",
        "# Develop a program to read student records with their names, ages, and grades.\n",
        "# Implement validation checks:\n",
        "# a. Ensure age is a positive integer.\n",
        "# b. Ensure grade is a valid letter grade (A, B, C, D, F).\n",
        "# c. Calculate and display the average age of students with valid records.\n",
        "\n",
        "file = \"/content/student.csv\"\n",
        "# Read the CSV file\n",
        "student_data <- read.csv(file)\n",
        "\n",
        "# Age check\n",
        "\n",
        "age_check <- function(age) {\n",
        "    return(age > 0)\n",
        "}\n",
        "\n",
        "# grade_check\n",
        "\n",
        "grade_check <- function(grade){\n",
        "    return (grade %in% c(\"A\",\"B\",\"C\",\"D\",\"F\"))\n",
        "}\n",
        "\n",
        "\n",
        "\n",
        "student_data$AgeCheck <- sapply(student_data$Age,age_check)\n",
        "student_data$GradeCheck<- sapply(student_data$Grade,grade_check)\n",
        "\n",
        "\n",
        "# Filter the data to keep only valid records\n",
        "valid_records <- student_data[student_data$AgeCheck, TRUE]\n",
        "valid_records <- valid_records[student_data$GradeCheck, TRUE]\n",
        "\n",
        "# Calculating the avg age\n",
        "average_age_valid_records <- mean(valid_records$Age)\n",
        "\n",
        "cat(\"\\nStudent Data\")\n",
        "print(student_data)\n",
        "\n",
        "cat(\"\\nValid records\")\n",
        "print(valid_records)\n",
        "\n",
        "cat(\"\\nAvg Age of valid recs\")\n",
        "print(average_age_valid_records)\n"
      ],
      "metadata": {
        "colab": {
          "base_uri": "https://localhost:8080/"
        },
        "id": "UvPSrmKDofst",
        "outputId": "ce0b7b9b-b20a-42e6-b8f9-7c353fda55ca"
      },
      "execution_count": null,
      "outputs": [
        {
          "output_type": "stream",
          "name": "stdout",
          "text": [
            "\n",
            "Student Data      Name Age Grade AgeCheck GradeCheck\n",
            "1    Alice  20     A     TRUE       TRUE\n",
            "2      Bob  22     B     TRUE       TRUE\n",
            "3  Charlie  21     C     TRUE       TRUE\n",
            "4    David  23     D     TRUE       TRUE\n",
            "5      Eve  20     F     TRUE       TRUE\n",
            "6    Frank  24     A     TRUE       TRUE\n",
            "7    Grace  19     B     TRUE       TRUE\n",
            "8     Hank  22     C     TRUE       TRUE\n",
            "9      Ivy  21     D     TRUE       TRUE\n",
            "10    Jack  23     F     TRUE       TRUE\n",
            "11   Katie  20     A     TRUE       TRUE\n",
            "\n",
            "Valid records      Name Age Grade AgeCheck GradeCheck\n",
            "1    Alice  20     A     TRUE       TRUE\n",
            "2      Bob  22     B     TRUE       TRUE\n",
            "3  Charlie  21     C     TRUE       TRUE\n",
            "4    David  23     D     TRUE       TRUE\n",
            "5      Eve  20     F     TRUE       TRUE\n",
            "6    Frank  24     A     TRUE       TRUE\n",
            "7    Grace  19     B     TRUE       TRUE\n",
            "8     Hank  22     C     TRUE       TRUE\n",
            "9      Ivy  21     D     TRUE       TRUE\n",
            "10    Jack  23     F     TRUE       TRUE\n",
            "11   Katie  20     A     TRUE       TRUE\n",
            "\n",
            "Avg Age of valid recs[1] 21.36364\n"
          ]
        }
      ]
    },
    {
      "cell_type": "code",
      "source": [
        "# Question 4: Password Generator\n",
        "\n",
        "# Write a program to generate a random password for a user. The password should\n",
        "# include a mix of uppercase letters, lowercase letters, digits, and special characters.\n",
        "# Allow the user to specify the length of the password.\n",
        "\n",
        "genrate_rand_passwd <- function(length){\n",
        "    # Define character sets for each category\n",
        "    lowercase_letters <- sample(letters, length, replace = TRUE)\n",
        "    uppercase_letters <- sample(LETTERS, length, replace = TRUE)\n",
        "    digits <- sample(0:9, length, replace = TRUE)\n",
        "    special_chars <- sample(c(\"!\", \"@\", \"#\", \"$\", \"%\", \"_\", \"+\", \"-\", \";\", \"'\", \"?\", \"/\"), length, replace = TRUE)\n",
        "\n",
        "    # Concatenate the character sets\n",
        "    passwd <- c(lowercase_letters, uppercase_letters, digits, special_chars)\n",
        "\n",
        "    # Shuffle the characters\n",
        "    password <- paste(sample(passwd, length), collapse = \"\")\n",
        "    return(password)\n",
        "}\n",
        "\n",
        "cat(\"Enter the length of the password : \")\n",
        "length <- readline()\n",
        "\n",
        "length <- as.numeric(length)\n",
        "random_password <- genrate_rand_passwd(length)\n",
        "# Print the random password\n",
        "cat(\"Random Password:\", random_password, \"\\n\")"
      ],
      "metadata": {
        "colab": {
          "base_uri": "https://localhost:8080/"
        },
        "id": "8arYAMt44bUZ",
        "outputId": "c71330c5-f4d5-49a9-a0dd-ee2eb1256f42"
      },
      "execution_count": null,
      "outputs": [
        {
          "output_type": "stream",
          "name": "stdout",
          "text": [
            "Enter the length of the password : 19\n",
            "Random Password: 2QWFcO3Dx7_s5aH;+86 \n"
          ]
        }
      ]
    },
    {
      "cell_type": "code",
      "source": [
        "# Question 5: Series Summation\n",
        "\n",
        "# Develop a program to calculate the sum of the series: 1 - 2/3 + 3/5 - 4/7 + ... up to a\n",
        "# specified number of terms. Allow the user to input the number of terms in the series.\n",
        "\n",
        "expression_sum <- function(lim = 10){\n",
        "    sum <- 0\n",
        "    for(i in 1:lim){\n",
        "        if(i %% 2 == 0){\n",
        "            sum <- sum - (i / (2*i - 1))\n",
        "        }else{\n",
        "            sum <- sum + (i / (2*i - 1))\n",
        "        }\n",
        "    }\n",
        "    return(sum)\n",
        "}\n",
        "\n",
        "lim <- readline(\"Enter the number of terms : \")\n",
        "lim <- as.numeric(lim)\n",
        "\n",
        "\n",
        "sum <- expression_sum(lim)\n",
        "cat(\"Sum of the series:\", sum, \"\\n\")"
      ],
      "metadata": {
        "colab": {
          "base_uri": "https://localhost:8080/"
        },
        "id": "uJjRB1Hm5XeI",
        "outputId": "9015b6bb-d79a-4b0d-9b57-3e2c63bbce42"
      },
      "execution_count": null,
      "outputs": [
        {
          "output_type": "stream",
          "name": "stdout",
          "text": [
            "Enter the number of terms : 2000\n",
            "Sum of the series: 0.3926366 \n"
          ]
        }
      ]
    },
    {
      "cell_type": "code",
      "source": [
        "# Question 6: Prime Number Checker\n",
        "\n",
        "# Write a program to check whether a given number is prime or not. Implement this using\n",
        "# both loops and functions. Additionally, allow the user to input a range and identify all\n",
        "# prime numbers within that range.\n",
        "\n",
        "# Function to check if a number is prime\n",
        "prime_check <- function(n) {\n",
        "    if (n <= 1) {\n",
        "        return(FALSE)\n",
        "    }\n",
        "    if (n <= 3) {\n",
        "        return(TRUE)\n",
        "    }\n",
        "    if (n %% 2 == 0 || n %% 3 == 0) {\n",
        "        return(FALSE)\n",
        "    }\n",
        "    i <- 5\n",
        "    while (i * i <= n) {\n",
        "        if (n %% i == 0 || n %% (i + 2) == 0) {\n",
        "            return(FALSE)\n",
        "        }\n",
        "        i <- i + 6\n",
        "    }\n",
        "    return(TRUE)\n",
        "}\n",
        "\n",
        "# User input range\n",
        "\n",
        "prime_in_range <- function(start = 0 ,stop = 100){\n",
        "    for(j in start:stop){\n",
        "        if (prime_check(j)){\n",
        "            print(j)\n",
        "        }\n",
        "    }\n",
        "}\n",
        "\n",
        "start_range <- readline(\"Enter the start of the range : \")\n",
        "stop_range <- readline(\"Enter the end of the range : \")\n",
        "\n",
        "prime_in_range(as.numeric(start_range), as.numeric(stop_range))\n"
      ],
      "metadata": {
        "colab": {
          "base_uri": "https://localhost:8080/"
        },
        "id": "1Klqe70o5dSf",
        "outputId": "d31fdae5-4353-48c9-9b68-3910fcd41eff"
      },
      "execution_count": null,
      "outputs": [
        {
          "output_type": "stream",
          "name": "stdout",
          "text": [
            "Enter the start of the range : 2\n",
            "Enter the end of the range : 30\n",
            "[1] 2\n",
            "[1] 3\n",
            "[1] 5\n",
            "[1] 7\n",
            "[1] 11\n",
            "[1] 13\n",
            "[1] 17\n",
            "[1] 19\n",
            "[1] 23\n",
            "[1] 29\n"
          ]
        }
      ]
    },
    {
      "cell_type": "code",
      "source": [
        "# Question 7: Fibonacci Series with a Twist\n",
        "\n",
        "# Develop a program to generate the Fibonacci series, but with a twist. Allow the user to\n",
        "# input the number of terms and generate the series where each term is the sum of the\n",
        "# last three terms.\n",
        "\n",
        "Fibonacci_new <- function(lim){\n",
        "    limiter <- lim - 3\n",
        "    a <- 0\n",
        "    b <- 1\n",
        "    c <- 1\n",
        "\n",
        "    cat(a, b, c, \" \", sep = \" \")\n",
        "\n",
        "    while(limiter > 0){\n",
        "        d <- a + b + c\n",
        "        cat(d, \" \", sep = \" \")\n",
        "        a <- b\n",
        "        b <- c\n",
        "        c <- d\n",
        "        limiter <- limiter - 1\n",
        "    }\n",
        "}\n",
        "\n",
        "lim <- readline(\"Enter the number of terms : \")\n",
        "lim <- as.numeric(lim)\n",
        "Fibonacci_new(lim)"
      ],
      "metadata": {
        "colab": {
          "base_uri": "https://localhost:8080/"
        },
        "id": "K9x709lh7uJp",
        "outputId": "52360637-486e-4dfb-94cf-091223b1be72"
      },
      "execution_count": null,
      "outputs": [
        {
          "output_type": "stream",
          "name": "stdout",
          "text": [
            "Enter the number of terms : 20\n",
            "0 1 1  2  4  7  13  24  44  81  149  274  504  927  1705  3136  5768  10609  19513  35890  "
          ]
        }
      ]
    },
    {
      "cell_type": "code",
      "source": [
        "# Question 8: Palindrome Checker\n",
        "\n",
        "# Write a program that reads a string and checks if it's a palindrome. A palindrome is a\n",
        "# string that reads the same forwards and backwards, ignoring spaces and punctuation.\n",
        "\n",
        "# Function to check if a string is palindrome\n",
        "\n",
        "palindrome_check <- function(str) {\n",
        "    rev_str <- rev(str)\n",
        "    rev_str <- paste(rev_str, collapse = \"\")\n",
        "    if (str == rev_str) {\n",
        "        return(TRUE)\n",
        "    } else {\n",
        "        return(FALSE)\n",
        "    }\n",
        "}\n",
        "\n",
        "# User input string\n",
        "\n",
        "input_str <- readline(\"Enter the string : \")\n",
        "palindrome_check(input_str)\n"
      ],
      "metadata": {
        "colab": {
          "base_uri": "https://localhost:8080/",
          "height": 52
        },
        "id": "AjQRLABD8unV",
        "outputId": "310a23ed-797e-4f8f-acd7-c31209aa3275"
      },
      "execution_count": null,
      "outputs": [
        {
          "name": "stdout",
          "output_type": "stream",
          "text": [
            "Enter the string : lol\n"
          ]
        },
        {
          "output_type": "display_data",
          "data": {
            "text/html": [
              "TRUE"
            ],
            "text/markdown": "TRUE",
            "text/latex": "TRUE",
            "text/plain": [
              "[1] TRUE"
            ]
          },
          "metadata": {}
        }
      ]
    },
    {
      "cell_type": "code",
      "source": [
        "# Question 9: Data Compression\n",
        "\n",
        "# Design a program to read a string and compress it using run-length encoding. In\n",
        "# run-length encoding, consecutive repeated characters are replaced with a single\n",
        "# character followed by the count of occurrences.\n",
        "\n",
        "run_length_encode <- function(input_str){\n",
        "\n",
        "    # Split the string into a character vector\n",
        "    char_vector <- strsplit(input_str, \"\")[[1]]\n",
        "    # Null charecter to store encoding\n",
        "    encoded_str <- character(0)\n",
        "\n",
        "    # Loop through the character vector\n",
        "    count <- 1 # Initialize count to 1\n",
        "\n",
        "    for (i in 2:length(char_vector)){\n",
        "        if (char_vector[i] == char_vector[i-1]){\n",
        "            count <- count + 1\n",
        "        } else {\n",
        "            encoded_str <- c(encoded_str, char_vector[i-1], count)\n",
        "            count <- 1\n",
        "        }\n",
        "    }\n",
        "\n",
        "    # Add the last character and count\n",
        "    encoded_str <- c(encoded_str, char_vector[length(char_vector)], count)\n",
        "\n",
        "    return(paste(encoded_str, collapse = \"\"))\n",
        "\n",
        "}\n",
        "\n",
        "# User input string\n",
        "\n",
        "input_str <- readline(\"Enter the string : \")\n",
        "encoded_str <- run_length_encode(input_str)\n",
        "\n",
        "cat(\"Encoded String:\", encoded_str, \"\\n\")\n"
      ],
      "metadata": {
        "colab": {
          "base_uri": "https://localhost:8080/"
        },
        "id": "pzfFJjp3_CX_",
        "outputId": "13d58035-e1ba-49ce-964e-bd026883f1ee"
      },
      "execution_count": null,
      "outputs": [
        {
          "output_type": "stream",
          "name": "stdout",
          "text": [
            "Enter the string : AAAAIIIOOKKK\n",
            "Encoded String: A4I3O2K3 \n"
          ]
        }
      ]
    },
    {
      "cell_type": "code",
      "source": [
        "# Question 10: Data Reversal\n",
        "\n",
        "# Write a program to reverse the order of elements in a given list. Implement this without\n",
        "# using any built-in functions or loops.\n",
        "\n",
        "reverse <- function(in_list){\n",
        "    new_list <- list()\n",
        "    length <- length(in_list)\n",
        "\n",
        "    for (i in 1:length){\n",
        "        new_list[[i]] <- in_list[[length - i + 1]]\n",
        "    }\n",
        "\n",
        "    return(new_list)\n",
        "}\n",
        "\n",
        "# User input list\n",
        "\n",
        "input_list <- readline(\"Enter the list : \")\n",
        "\n",
        "input_list <- strsplit(input_list, \" \")[[1]]\n",
        "\n",
        "input_list <- as.list(input_list)\n",
        "\n",
        "reversed_list <- reverse(input_list)\n",
        "\n",
        "cat(\"Reversed List:\\n\")\n",
        "print(reversed_list)\n"
      ],
      "metadata": {
        "colab": {
          "base_uri": "https://localhost:8080/"
        },
        "id": "o0-FYL55Co1o",
        "outputId": "bbcf4670-31d5-4f7e-e976-03abe00587c7"
      },
      "execution_count": null,
      "outputs": [
        {
          "output_type": "stream",
          "name": "stdout",
          "text": [
            "Enter the list : DeV C B\n",
            "Reversed List:\n",
            "[[1]]\n",
            "[1] \"B\"\n",
            "\n",
            "[[2]]\n",
            "[1] \"C\"\n",
            "\n",
            "[[3]]\n",
            "[1] \"DeV\"\n",
            "\n"
          ]
        }
      ]
    }
  ]
}